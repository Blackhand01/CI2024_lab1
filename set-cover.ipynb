{
 "cells": [
  {
   "cell_type": "markdown",
   "metadata": {},
   "source": [
    "Copyright **`(c)`** 2024 Giovanni Squillero `<giovanni.squillero@polito.it>`  \n",
    "[`https://github.com/squillero/computational-intelligence`](https://github.com/squillero/computational-intelligence)  \n",
    "Free for personal or classroom use; see [`LICENSE.md`](https://github.com/squillero/computational-intelligence/blob/master/LICENSE.md) for details.  "
   ]
  },
  {
   "cell_type": "markdown",
   "metadata": {},
   "source": [
    "# Set Cover problem\n",
    "\n",
    "See: https://en.wikipedia.org/wiki/Set_cover_problem"
   ]
  },
  {
   "cell_type": "code",
   "execution_count": 27,
   "metadata": {},
   "outputs": [],
   "source": [
    "import numpy as np\n",
    "from random import randint\n",
    "from icecream import ic"
   ]
  },
  {
   "cell_type": "markdown",
   "metadata": {},
   "source": []
  },
  {
   "cell_type": "markdown",
   "metadata": {},
   "source": [
    "## Reproducible Initialization\n",
    "\n",
    "If you want to get reproducible results, use `rng` (and restart the kernel); for non-reproducible ones, use `np.random`."
   ]
  },
  {
   "cell_type": "code",
   "execution_count": 28,
   "metadata": {},
   "outputs": [],
   "source": [
    "UNIVERSE_SIZE = 100_000\n",
    "NUM_SETS = 10_000\n",
    "DENSITY = 0.3\n",
    "\n",
    "rng = np.random.Generator(np.random.PCG64([UNIVERSE_SIZE, NUM_SETS, int(10_000 * DENSITY)]))\n",
    "\n",
    "def generate_instance(universe_size, num_sets, density):\n",
    "    sets = np.random.random((num_sets, universe_size)) < density\n",
    "    for s in range(universe_size):\n",
    "        if not np.any(sets[:, s]):\n",
    "            sets[randint(0, num_sets - 1), s] = True\n",
    "    costs = np.power(sets.sum(axis=1), 1.1)\n",
    "    return sets, costs"
   ]
  },
  {
   "cell_type": "code",
   "execution_count": 29,
   "metadata": {},
   "outputs": [
    {
     "ename": "KeyboardInterrupt",
     "evalue": "",
     "output_type": "error",
     "traceback": [
      "\u001b[0;31m---------------------------------------------------------------------------\u001b[0m",
      "\u001b[0;31mKeyboardInterrupt\u001b[0m                         Traceback (most recent call last)",
      "Cell \u001b[0;32mIn[29], line 7\u001b[0m\n\u001b[1;32m      5\u001b[0m     \u001b[38;5;28;01mif\u001b[39;00m \u001b[38;5;129;01mnot\u001b[39;00m np\u001b[38;5;241m.\u001b[39many(SETS[:, s]):\n\u001b[1;32m      6\u001b[0m         SETS[np\u001b[38;5;241m.\u001b[39mrandom\u001b[38;5;241m.\u001b[39mrandint(NUM_SETS), s] \u001b[38;5;241m=\u001b[39m \u001b[38;5;28;01mTrue\u001b[39;00m\n\u001b[0;32m----> 7\u001b[0m COSTS \u001b[38;5;241m=\u001b[39m np\u001b[38;5;241m.\u001b[39mpow(\u001b[43mSETS\u001b[49m\u001b[38;5;241;43m.\u001b[39;49m\u001b[43msum\u001b[49m\u001b[43m(\u001b[49m\u001b[43maxis\u001b[49m\u001b[38;5;241;43m=\u001b[39;49m\u001b[38;5;241;43m1\u001b[39;49m\u001b[43m)\u001b[49m, \u001b[38;5;241m1.1\u001b[39m)\n",
      "File \u001b[0;32m~/Desktop/Computational-Intelligence/venv/lib/python3.11/site-packages/numpy/_core/_methods.py:53\u001b[0m, in \u001b[0;36m_sum\u001b[0;34m(a, axis, dtype, out, keepdims, initial, where)\u001b[0m\n\u001b[1;32m     51\u001b[0m \u001b[38;5;28;01mdef\u001b[39;00m \u001b[38;5;21m_sum\u001b[39m(a, axis\u001b[38;5;241m=\u001b[39m\u001b[38;5;28;01mNone\u001b[39;00m, dtype\u001b[38;5;241m=\u001b[39m\u001b[38;5;28;01mNone\u001b[39;00m, out\u001b[38;5;241m=\u001b[39m\u001b[38;5;28;01mNone\u001b[39;00m, keepdims\u001b[38;5;241m=\u001b[39m\u001b[38;5;28;01mFalse\u001b[39;00m,\n\u001b[1;32m     52\u001b[0m          initial\u001b[38;5;241m=\u001b[39m_NoValue, where\u001b[38;5;241m=\u001b[39m\u001b[38;5;28;01mTrue\u001b[39;00m):\n\u001b[0;32m---> 53\u001b[0m     \u001b[38;5;28;01mreturn\u001b[39;00m umr_sum(a, axis, dtype, out, keepdims, initial, where)\n",
      "\u001b[0;31mKeyboardInterrupt\u001b[0m: "
     ]
    }
   ],
   "source": [
    "# DON'T EDIT THESE LINES!\n",
    "\n",
    "SETS = np.random.random((NUM_SETS, UNIVERSE_SIZE)) < DENSITY\n",
    "for s in range(UNIVERSE_SIZE):\n",
    "    if not np.any(SETS[:, s]):\n",
    "        SETS[np.random.randint(NUM_SETS), s] = True\n",
    "COSTS = np.pow(SETS.sum(axis=1), 1.1)"
   ]
  },
  {
   "cell_type": "markdown",
   "metadata": {},
   "source": [
    "## Helper Functions"
   ]
  },
  {
   "cell_type": "code",
   "execution_count": 24,
   "metadata": {},
   "outputs": [],
   "source": [
    "def valid(solution, sets):\n",
    "    \"\"\"Checks wether solution is valid (ie. covers all universe)\"\"\"\n",
    "    return np.all(np.logical_or.reduce(sets[solution]))\n",
    "\n",
    "\n",
    "def cost(solution, costs):\n",
    "    \"\"\"Returns the cost of a solution (to be minimized)\"\"\"\n",
    "    return costs[solution].sum()\n",
    "\n",
    "def tweak(solution):\n",
    "    \"\"\"Generates a new solution by flipping one random set\"\"\"\n",
    "    new_solution = solution.copy()\n",
    "    index = randint(0, len(solution) - 1)\n",
    "    new_solution[index] = not new_solution[index]\n",
    "    return new_solution\n"
   ]
  },
  {
   "cell_type": "markdown",
   "metadata": {},
   "source": [
    "## Have Fun!"
   ]
  },
  {
   "cell_type": "markdown",
   "metadata": {},
   "source": [
    "## Hill Climbing Algorithm\n",
    "\n",
    "In this section, we implement the **Hill Climbing** algorithm to solve the Set Cover problem. The algorithm starts with a random solution and iteratively improves it by tweaking to either increase coverage or decrease cost.\n",
    "\n",
    "### Algorithm Steps:\n",
    "1. Start with a random solution (50% of sets selected).\n",
    "2. Calculate the coverage and cost of the current solution.\n",
    "3. Generate a new solution by flipping a random set (tweak).\n",
    "4. Accept the new solution if:\n",
    "    - It increases the coverage of the universe, or\n",
    "    - It maintains the same coverage but reduces the cost.\n",
    "5. Repeat for a fixed number of iterations (`max_steps`).\n"
   ]
  },
  {
   "cell_type": "code",
   "execution_count": 25,
   "metadata": {},
   "outputs": [],
   "source": [
    "def hill_climbing(sets, costs, max_steps=1000):\n",
    "    solution = np.random.rand(sets.shape[0]) < 0.5  # Start with a random solution\n",
    "    best_solution = solution\n",
    "    best_coverage = np.sum(np.logical_or.reduce(sets[solution]))\n",
    "    best_cost = cost(solution, costs)\n",
    "\n",
    "    for step in range(max_steps):\n",
    "        # Generate a new solution by tweaking the current one\n",
    "        new_solution = tweak(solution)\n",
    "        new_coverage = np.sum(np.logical_or.reduce(sets[new_solution]))\n",
    "\n",
    "        # Accept the new solution if it improves coverage or cost\n",
    "        if new_coverage > best_coverage or (new_coverage == best_coverage and cost(new_solution, costs) < best_cost):\n",
    "            solution = new_solution\n",
    "            best_coverage = new_coverage\n",
    "            best_cost = cost(new_solution, costs)\n",
    "\n",
    "    return best_solution, best_coverage, best_cost\n"
   ]
  },
  {
   "cell_type": "markdown",
   "metadata": {},
   "source": [
    "## Main Execution\n",
    "\n",
    "In this section, we define multiple problem instances from the Lab 1 instructions, varying the universe size, number of sets, and density. For each instance, we run the Hill Climbing algorithm and print the results for evaluation.\n"
   ]
  },
  {
   "cell_type": "code",
   "execution_count": null,
   "metadata": {},
   "outputs": [],
   "source": [
    "# Lab 1 problem instances\n",
    "instances = [\n",
    "    {\"universe_size\": 100, \"num_sets\": 10, \"density\": 0.2},\n",
    "    {\"universe_size\": 1000, \"num_sets\": 100, \"density\": 0.2},\n",
    "    {\"universe_size\": 10000, \"num_sets\": 1000, \"density\": 0.2},\n",
    "    {\"universe_size\": 100000, \"num_sets\": 10000, \"density\": 0.1},\n",
    "    {\"universe_size\": 100000, \"num_sets\": 10000, \"density\": 0.2},\n",
    "    {\"universe_size\": 100000, \"num_sets\": 10000, \"density\": 0.3}\n",
    "]\n",
    "\n",
    "# Execute Hill Climbing for all instances and print results\n",
    "for instance in instances:\n",
    "    universe_size = instance[\"universe_size\"]\n",
    "    num_sets = instance[\"num_sets\"]\n",
    "    density = instance[\"density\"]\n",
    "\n",
    "    print(f\"Running for Universe Size: {universe_size}, Num Sets: {num_sets}, Density: {density}\")\n",
    "\n",
    "    # Generate the instance\n",
    "    sets, costs = generate_instance(universe_size, num_sets, density)\n",
    "\n",
    "    # Run Hill Climbing\n",
    "    best_solution, best_coverage, best_cost = hill_climbing(sets, costs, max_steps=1000)\n",
    "\n",
    "    # Print the results for evaluation\n",
    "    print(f\"Best Coverage: {best_coverage}/{universe_size}\")\n",
    "    print(f\"Best Cost: {best_cost}\\n\")\n"
   ]
  }
 ],
 "metadata": {
  "kernelspec": {
   "display_name": "venv",
   "language": "python",
   "name": "python3"
  },
  "language_info": {
   "codemirror_mode": {
    "name": "ipython",
    "version": 3
   },
   "file_extension": ".py",
   "mimetype": "text/x-python",
   "name": "python",
   "nbconvert_exporter": "python",
   "pygments_lexer": "ipython3",
   "version": "3.11.7"
  }
 },
 "nbformat": 4,
 "nbformat_minor": 4
}
